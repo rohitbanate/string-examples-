{
 "cells": [
  {
   "cell_type": "markdown",
   "id": "6417996e",
   "metadata": {
    "id": "6417996e"
   },
   "source": [
    "### Python Program to Check if a String is Palindrome or Not\n"
   ]
  },
  {
   "cell_type": "markdown",
   "id": "59302a62",
   "metadata": {
    "id": "59302a62"
   },
   "source": [
    "A string is said to be a palindrome if the reverse of the string is the same as the string."
   ]
  },
  {
   "cell_type": "markdown",
   "id": "64738bcc",
   "metadata": {
    "id": "64738bcc"
   },
   "source": [
    "Input : malayalam  --> malayalam\n",
    "Output : Yes\n",
    "\n",
    "Input : geeks  -->skeeg\n",
    "Output : No\n",
    "\n",
    "\n",
    "Input : nitin --> nitin\n",
    "Output : Yes\n",
    "\n",
    "\n",
    "Input : Rohit --> tihor\n",
    "Output : No\n",
    "\n"
   ]
  },
  {
   "cell_type": "code",
   "execution_count": null,
   "id": "aef79ea4",
   "metadata": {
    "id": "aef79ea4",
    "outputId": "c0971868-1ef2-4b36-f71a-fc952c9a2b99"
   },
   "outputs": [],
   "source": [
    "def ispalindrome(x):\n",
    "    return x == x[::-1]\n",
    "\n",
    "\n",
    "x = input(\"enter the input string:\")\n",
    "\n",
    "\n",
    "ans=  ispalindrome(x)\n",
    "\n",
    "if ans:\n",
    "    print(\"yes\")\n",
    "else:\n",
    "    print(\"no\")"
   ]
  },
  {
   "cell_type": "code",
   "execution_count": null,
   "id": "a54fefb7",
   "metadata": {
    "id": "a54fefb7",
    "outputId": "6c9617bf-f92a-4319-fbcc-ad3c1dba5671"
   },
   "outputs": [],
   "source": [
    "def with_reverse(s):\n",
    "    rev =''.join(reversed(s))\n",
    "\n",
    "    if (s == rev):\n",
    "        return True\n",
    "    return False\n",
    "\n",
    "s= str(input(\"enter the string for check whether it is palindrome or not:\"))\n",
    "print(\" the original statement is : \",s)\n",
    "ans = with_reverse(s)\n",
    "\n",
    "print(ans)\n",
    "\n"
   ]
  },
  {
   "cell_type": "code",
   "execution_count": null,
   "id": "2dacfd5e",
   "metadata": {
    "id": "2dacfd5e",
    "outputId": "310e4331-17cb-43db-953a-42ac6382e192"
   },
   "outputs": [],
   "source": [
    "s= input(\"enter the input string :\")\n",
    "\n",
    "reverce = \"\"\n",
    "\n",
    "for i in s:\n",
    "    reverce = i+reverce  # (if you insert reverce = reverce + i then it will print as it is input)\n",
    "\n",
    "print(\"the reverce of the word:\",reverce)\n",
    "\n",
    "\n",
    "if (s == reverce):\n",
    "    print(\"yes, the word is palindrome \")\n",
    "else:\n",
    "    print(\"no, the word is not palindrome\")"
   ]
  },
  {
   "cell_type": "markdown",
   "id": "4ef90d84",
   "metadata": {
    "id": "4ef90d84"
   },
   "source": [
    "### Python program to check whether the string is Symmetrical or Palindrome\n"
   ]
  },
  {
   "cell_type": "markdown",
   "id": "8c0a2264",
   "metadata": {
    "id": "8c0a2264"
   },
   "source": [
    "A string is considered symmetrical if the second half is a mirror image of the first half\n",
    "\n",
    "(ignoring spaces, punctuation, and capitalization)."
   ]
  },
  {
   "cell_type": "code",
   "execution_count": null,
   "id": "8852fb26",
   "metadata": {
    "id": "8852fb26",
    "outputId": "2b98ccc4-33b3-44a9-bd51-a83f633f5321"
   },
   "outputs": [],
   "source": [
    "def palindrome(word):\n",
    "    return word == word[::-1]\n",
    "\n",
    "\n",
    "\n",
    "word = input(\"enter the string input to check:\")\n",
    "\n",
    "ans = palindrome(word)\n",
    "\n",
    "\n",
    "if ans:\n",
    "    print(\"yes, the word is palindrome\")\n",
    "\n",
    "else:\n",
    "    print(\"no, the word is not palindrome\")\n",
    "\n",
    "\n",
    "\n",
    "#now check whether the word is symmetric or not\n",
    "\n",
    "\n",
    "def symmetric(word):\n",
    "\n",
    "    n = len(word)\n",
    "    mid = n//2\n",
    "\n",
    "    return word[:mid] == word[mid:]\n",
    "\n",
    "\n",
    "ans1 = symmetric(word)\n",
    "\n",
    "if ans1:\n",
    "    print(\"yes, the word is symmetric \")\n",
    "else:\n",
    "    print(\"no, the word is not symmetric\")\n",
    "\n"
   ]
  },
  {
   "cell_type": "code",
   "execution_count": null,
   "id": "9739da6a",
   "metadata": {
    "id": "9739da6a"
   },
   "outputs": [],
   "source": [
    "word = input(\"enter the string: \")\n",
    "\n",
    "\n",
    "mid = len(word)//2\n",
    "mid\n",
    "\n",
    "first_string = word[:mid]\n",
    "second_string = word[mid:]\n",
    "\n",
    "if first_string == second_string:\n",
    "    print(word, \"is symmetric \")\n",
    "else:\n",
    "    print(word, \"is not symmetric\")\n",
    "\n",
    "\n",
    "#check for palindrome\n",
    "if word == word[::-1]:\n",
    "    print(word, \" is palindrome\")\n",
    "else:\n",
    "    print(word, \" is not palindrome\")\n"
   ]
  },
  {
   "cell_type": "markdown",
   "id": "53884ed6",
   "metadata": {
    "id": "53884ed6"
   },
   "source": [
    "### Reverse Words in a Given String in Python\n"
   ]
  },
  {
   "cell_type": "markdown",
   "id": "122267dd",
   "metadata": {
    "id": "122267dd"
   },
   "source": [
    "Input : str =\" geeks quiz practice code\"\n",
    "Output : str = code practice quiz geeks  \n",
    "Input : str = \"my name is laxmi\"\n",
    "output : str= laxmi is name my"
   ]
  },
  {
   "cell_type": "code",
   "execution_count": null,
   "id": "31c2faa2",
   "metadata": {
    "id": "31c2faa2",
    "outputId": "09083124-712d-4af5-d40a-b3a45653b39b"
   },
   "outputs": [],
   "source": [
    " string = input(\"enter sentence to be revereced::\")\n",
    "\n",
    "splitted_string = string.split()[::-1]\n",
    "print(splitted_string)\n",
    "reverce1 = []\n",
    "\n",
    "for i in splitted_string:\n",
    "    reverce1.append(i)\n",
    "\n",
    "\n",
    "print(\" \". join(reverce1))"
   ]
  },
  {
   "cell_type": "code",
   "execution_count": null,
   "id": "dabec757",
   "metadata": {
    "id": "dabec757",
    "outputId": "3d4ac00e-5d96-4b7f-92e3-c6ae333790ab"
   },
   "outputs": [],
   "source": [
    "def splitted(x):\n",
    "    splitted_string = x.split()[::-1]\n",
    "    reversed1 = []\n",
    "    for i in splitted_string:\n",
    "            reversed1.append(i)\n",
    "    return reversed1\n",
    "\n",
    "x= input(\"enter string:\")\n",
    "\n",
    "print(\" \".join(splitted(x)))"
   ]
  },
  {
   "cell_type": "markdown",
   "id": "e3277eb7",
   "metadata": {
    "id": "e3277eb7"
   },
   "source": [
    "###  Remove Letters From a String in Python\n"
   ]
  },
  {
   "cell_type": "markdown",
   "id": "52127f75",
   "metadata": {
    "id": "52127f75"
   },
   "source": [
    "Below are the following methods:\n",
    "\n",
    "Using replace()\n",
    "\n",
    "Using translate()\n",
    "\n",
    "Using recursion\n",
    "\n",
    "Using Native Method\n",
    "\n",
    "Using str.replace()\n",
    "\n",
    "Using slice + concatenation\n",
    "\n",
    "Using str.join() and list comprehension\n",
    "\n",
    "Using bytearray"
   ]
  },
  {
   "cell_type": "code",
   "execution_count": null,
   "id": "9a7d6e81",
   "metadata": {
    "id": "9a7d6e81",
    "outputId": "7e2b0cc0-d4f1-4b0b-b6f9-4eae08b5f85b"
   },
   "outputs": [],
   "source": [
    "#using string.replace()\n",
    "string = 'Geeks123For123Geeks'\n",
    "\n",
    "new_string  = string.replace('123', '') # one is replace by nothing\n",
    "\n",
    "\n",
    "print(new_string)"
   ]
  },
  {
   "cell_type": "code",
   "execution_count": null,
   "id": "277161e7",
   "metadata": {
    "id": "277161e7",
    "outputId": "a3db3781-8277-416f-fa5d-27541fae7849",
    "scrolled": true
   },
   "outputs": [],
   "source": [
    "string = 'Geeks123For123Geeks'\n",
    "\n",
    "\n",
    "print(string.translate({ord(i):None for i in '123'}))"
   ]
  },
  {
   "cell_type": "code",
   "execution_count": null,
   "id": "55e4e69e",
   "metadata": {
    "id": "55e4e69e",
    "outputId": "4a39572a-66d6-4f44-a1b6-84994ee404bf"
   },
   "outputs": [],
   "source": [
    "# using recusrion method\n",
    "def remove_ith_char(s, i):\n",
    "    if i == 0:\n",
    "        return s[1:]\n",
    "\n",
    "    return s[0] + remove_ith_char(s[1:], i-1)\n",
    "\n",
    "\n",
    "test = 'Rohit'\n",
    "new_str = remove_ith_char(test,2)\n",
    "\n",
    "print(new_str)"
   ]
  },
  {
   "cell_type": "code",
   "execution_count": null,
   "id": "4e92b12e",
   "metadata": {
    "id": "4e92b12e",
    "outputId": "b0f89976-0c2d-4bfe-c787-94acfccb972b"
   },
   "outputs": [],
   "source": [
    "test_str = \"GeeksForGeeks\"\n",
    "\n",
    "# Removing char at pos 3\n",
    "new_str = \"\"\n",
    "\n",
    "for i in range(len(test_str)):\n",
    "\tif i != 3:\n",
    "\t\tnew_str = new_str + test_str[i]\n",
    "\n",
    "# Printing string after removal\n",
    "print (\"The string after removal of i'th character : \" + new_str)\n"
   ]
  },
  {
   "cell_type": "code",
   "execution_count": null,
   "id": "624caf6f",
   "metadata": {
    "id": "624caf6f",
    "outputId": "3baa668d-b091-479c-b103-95803d49fbde"
   },
   "outputs": [],
   "source": [
    "test= \"iamgoing\"\n",
    "\n",
    "new_str = \"\"\n",
    "\n",
    "for i in range(len(test)):\n",
    "    if i != 2:\n",
    "        new_str = new_str + test[i]\n",
    "print(new_str)"
   ]
  },
  {
   "cell_type": "code",
   "execution_count": null,
   "id": "e3796b5c",
   "metadata": {
    "id": "e3796b5c",
    "outputId": "ec027e13-3406-442a-c1e1-00ad0a34acf8"
   },
   "outputs": [],
   "source": [
    "# using str.join()\n",
    "\n",
    "test= \"iamgoing\"\n",
    "\n",
    "new_str = ''.join([test[i] for i in range(len(test)) if i !=3])\n",
    "\n",
    "new_str"
   ]
  },
  {
   "cell_type": "markdown",
   "id": "53d4c31e",
   "metadata": {
    "id": "53d4c31e"
   },
   "source": [
    "### Check if String Contains Substring in Python"
   ]
  },
  {
   "cell_type": "code",
   "execution_count": null,
   "id": "47a7d863",
   "metadata": {
    "id": "47a7d863",
    "outputId": "02238808-0368-4b09-c125-63a3f7f08e7d"
   },
   "outputs": [],
   "source": [
    "# with if else statement\n",
    "mystring = input(\"enter the main string :\")\n",
    "substr = input(\"enter the substring to check: \")\n",
    "\n",
    "if substr in mystring:\n",
    "    print(\"yes, substring is present in the main string \")\n",
    "else:\n",
    "    print(\"no, substring is not present in main string\")"
   ]
  },
  {
   "cell_type": "code",
   "execution_count": null,
   "id": "f05b1751",
   "metadata": {
    "id": "f05b1751",
    "outputId": "e609b17c-dd91-4c7d-c48e-2df4e12ad965"
   },
   "outputs": [],
   "source": [
    "# with split() method\n",
    "mystring = input(\"enter the main string:\")\n",
    "substring = input(\"enter substring to check:\")\n",
    "\n",
    "\n",
    "s = mystring.split()\n",
    "print(s)\n",
    "\n",
    "if substring in s:\n",
    "    print(\"yes, substring is present in main string.\")\n",
    "\n",
    "else:\n",
    "    print(\"no, substring is not present in main string.\")"
   ]
  },
  {
   "cell_type": "code",
   "execution_count": null,
   "id": "ac89f65e",
   "metadata": {
    "id": "ac89f65e",
    "outputId": "481dca85-6fc1-4e0d-fe8f-fd35753634b1"
   },
   "outputs": [],
   "source": [
    "# with find()\n",
    "text = \"Hello, World!\"\n",
    "\n",
    "# Find the index of the substring \"World\" in the text\n",
    "index = text.find(\"Wrld\")\n",
    "\n",
    "# Check if the substring was found\n",
    "if index != -1: # index = -1 indicates that substring is not found in main string\n",
    "    print(f\"Substring found at index {index}\")\n",
    "else:\n",
    "    print(f\"Substring not found{index}\")\n",
    "#The f in front of the string denotes an f-string, which allows you to embed the value of the index variable into the string using curly braces {}.\n",
    "\n",
    "#    If index is not equal to -1, it means that the find() method found the substring, and the condition is True.\n",
    "#If index is equal to -1, it means that the find() method did not find the substring, and the condition is False"
   ]
  },
  {
   "cell_type": "code",
   "execution_count": null,
   "id": "6881ff9c",
   "metadata": {
    "id": "6881ff9c",
    "outputId": "ff21e813-07a2-439f-cf90-717daab16a89"
   },
   "outputs": [],
   "source": [
    "# with find ()\n",
    "text = \"o me taaa challeya, teri ore hoke challeya \"\n",
    "index = text.find(\"way\")\n",
    "print(\"index position of the given string is :\",index)\n",
    "if index != -1 :\n",
    "    print(f\"substring found at index position {index}\")\n",
    "else:\n",
    "    print(f\"substring not found this means index position is {index}\")\n",
    "\n",
    "\n"
   ]
  },
  {
   "cell_type": "code",
   "execution_count": null,
   "id": "ae44398f",
   "metadata": {
    "id": "ae44398f",
    "outputId": "74fc9d91-e351-4f61-d7ac-920ca44ffde6"
   },
   "outputs": [],
   "source": [
    "def check (s2, s1):\n",
    "    if (s2.count(s1)> 0):\n",
    "        print(\"yes\")\n",
    "    else:\n",
    "        print(\"no\")\n",
    "\n",
    "\n",
    "s2 = \"A geeks in need is a geeks indeed\"\n",
    "s1 = \"geek\"\n",
    "\n",
    "check(s2, s1)"
   ]
  },
  {
   "cell_type": "code",
   "execution_count": null,
   "id": "ddce5df1",
   "metadata": {
    "id": "ddce5df1",
    "outputId": "8767ed7b-f595-4fea-df61-ee8da3587d25"
   },
   "outputs": [],
   "source": [
    "# USING LIST COMPREHANSION\n",
    "main_string = input(\"enter the statement :\")\n",
    "substr = input(\"enter substring whether present in main string or not :\")\n",
    "\n",
    "\n",
    "print([\"yes\" if substr in main_string else \"no\"])"
   ]
  },
  {
   "cell_type": "code",
   "execution_count": null,
   "id": "ea045814",
   "metadata": {
    "id": "ea045814",
    "outputId": "5008f1de-3355-4aad-c71d-f7a6711fb5c8"
   },
   "outputs": [],
   "source": [
    "# using lambda function\n",
    "main_string = \"lets check with this string\"\n",
    "substr = \"lets\"\n",
    "x = list(filter(lambda x:(substr in main_string), main_string.split()))\n",
    "print([\"yes\" if x else \"no\"])"
   ]
  },
  {
   "cell_type": "markdown",
   "id": "372a935a",
   "metadata": {
    "id": "372a935a"
   },
   "source": [
    "### Python – Words Frequency in String Shorthands"
   ]
  },
  {
   "cell_type": "markdown",
   "id": "318c074d",
   "metadata": {
    "id": "318c074d"
   },
   "source": [
    "Input : test_str = 'Gfg Gfg Gfg'\n",
    "Output : {'Gfg': 3}\n",
    "    \n",
    "\n",
    "    \n",
    "Input : test_str = 'Gfg is best'\n",
    "Output : {'Gfg': 1, 'is': 1, 'best': 1}"
   ]
  },
  {
   "cell_type": "code",
   "execution_count": null,
   "id": "7fa9b9d5",
   "metadata": {
    "id": "7fa9b9d5",
    "outputId": "e49d70c3-0dfb-4922-952b-5fcb2c4fdc69"
   },
   "outputs": [],
   "source": [
    "# Python3 code to demonstrate working of\n",
    "# Words Frequency in String Shorthands\n",
    "# Using dictionary comprehension + count() + split()\n",
    "\n",
    "# Initializing string\n",
    "test_str = 'Gfg is best . Geeks are good and Geeks like Gfg'\n",
    "\n",
    "# Printing original string\n",
    "print(\"The original string is : \" + str(test_str))\n",
    "\n",
    "# Words Frequency in String Shorthands\n",
    "# Using dictionary comprehension + count() + split()\n",
    "res = {key: test_str.count(key) for key in test_str.split()}\n",
    "\n",
    "# Printing result\n",
    "print(\"The words frequency : \" + str(res))\n",
    "\n"
   ]
  },
  {
   "cell_type": "code",
   "execution_count": null,
   "id": "fbb4f0f6",
   "metadata": {
    "id": "fbb4f0f6",
    "outputId": "1851c7eb-d708-46e0-e450-7834642ab324"
   },
   "outputs": [],
   "source": [
    "# using dictionary comprehansion + count() + split()\n",
    "main_string = \"amcha papa ni gampati anla, shakar ani parvati, mandivar basle gampati\"\n",
    "print(\"the original string is:\", str(main_string))\n",
    "\n",
    "str_count = { key : main_string.count(key) for  key in main_string.split()}\n",
    "\n",
    "print(\"the word friquency is :\", str(str_count))"
   ]
  },
  {
   "cell_type": "code",
   "execution_count": null,
   "id": "e0bc5ce0",
   "metadata": {
    "id": "e0bc5ce0",
    "outputId": "f7d54f7c-79a8-45ad-c68d-03e60ffc4f6c"
   },
   "outputs": [],
   "source": [
    "# using counter\n",
    "\n",
    "from collections import Counter\n",
    "\n",
    "main_string = \"amcha papa ni gampati anla, shakar ani parvati, mandivar basle gampati\"\n",
    "\n",
    "print(\"the original string is :\"+ str(main_string))\n",
    "\n",
    "string_counter = Counter(main_string.split())\n",
    "\n",
    "print(\"the word friquency is:\" + str(dict(string_counter)))"
   ]
  },
  {
   "cell_type": "code",
   "execution_count": null,
   "id": "37a930f6",
   "metadata": {
    "id": "37a930f6",
    "outputId": "0f6462b8-2fb8-4968-a40a-5fc9fbb9989c"
   },
   "outputs": [],
   "source": [
    "from collections import Counter\n",
    "import pandas as pd\n",
    "\n",
    "main_string = input(str(\"enter the input string :  \"))\n",
    "\n",
    "print(\"the original string is : \" + str(main_string))\n",
    "\n",
    "string_counter = Counter(main_string.split())\n",
    "\n",
    "print(\"the friquency is : \" + str(dict(string_counter)))\n",
    "\n",
    "data = pd.DataFrame(list(string_counter.items()) ,  columns=['word', 'frequency'])\n",
    "\n",
    "data.sort_values(by = \"frequency\", ascending = False)"
   ]
  },
  {
   "cell_type": "markdown",
   "id": "efe7d940",
   "metadata": {
    "id": "efe7d940"
   },
   "source": [
    "### Python – Convert Snake case to Pascal case\n"
   ]
  },
  {
   "cell_type": "markdown",
   "id": "ffdaa145",
   "metadata": {
    "id": "ffdaa145"
   },
   "source": [
    "\n",
    "Snake case and Pascal case are two different naming conventions used in programming for naming variables, functions, classes, or other identifiers.\n",
    "\n",
    "Snake Case:\n",
    "\n",
    "In snake case, words are written in lowercase, and they are separated by underscores _.\n",
    "Example: my_variable_name, calculate_total_amount, get_user_id.\n",
    "Pascal Case (also known as Upper Camel Case):\n",
    "\n",
    "In Pascal case, each word starts with an uppercase letter, and there are no spaces or underscores.\n",
    "Example: MyVariableName, CalculateTotalAmount, GetUserId."
   ]
  },
  {
   "cell_type": "code",
   "execution_count": null,
   "id": "0396e8c2",
   "metadata": {
    "id": "0396e8c2",
    "outputId": "e0f38aa4-de07-44c4-f40a-627dce1b6dd8"
   },
   "outputs": [],
   "source": [
    "# using title() + replace()\n",
    "#In Python, the .title() case means that the first character of each word is capitalized.\n",
    "\n",
    "test_string = \"this_text_is_the_snake_Case_format\"\n",
    "\n",
    "print(\"this is the original string :   \"+str(test_string))\n",
    "\n",
    "\n",
    "result = test_string.replace(\"_\", \" \").title().replace(\" \", \"\")\n",
    "print(\"the string in pascal case is :\",result)\n",
    "\n"
   ]
  },
  {
   "cell_type": "code",
   "execution_count": null,
   "id": "852e4113",
   "metadata": {
    "id": "852e4113",
    "outputId": "e439c8df-e5f6-41b9-ba4f-14095ff27d9f"
   },
   "outputs": [],
   "source": [
    "# using capwords()\n",
    "\n",
    "import string as st\n",
    "\n",
    "test_string = \"this_text_is_the_snake_Case_format\"\n",
    "\n",
    "\n",
    "print(\"this is the original string : \"  + str(test_string))\n",
    "\n",
    "result = st.capwords(test_string.replace(\"_\", \" \")).replace(\" \", \"\")\n",
    "\n",
    "print(\" this is the result set after changing case : \"+str(result))\n"
   ]
  },
  {
   "cell_type": "code",
   "execution_count": null,
   "id": "148b1455",
   "metadata": {
    "id": "148b1455",
    "outputId": "3fc70388-85a3-49b7-e97c-edf40bd860d6"
   },
   "outputs": [],
   "source": [
    "# using split(), join () and  title()\n",
    "\n",
    "test_string = \"this_text_is_the_snake_Case_format\"\n",
    "\n",
    "print(\"this is the original string: \" + str(test_string))\n",
    "\n",
    "result = test_string.split(\"_\")\n",
    "\n",
    "split_data = []\n",
    "\n",
    "print(\"we got this output after spliting data: \",result)\n",
    "\n",
    "for i in result:\n",
    "    i= i.title()\n",
    "    split_data.append(i)\n",
    "print(\"after converting the test into uppercase :\",split_data)\n",
    "\n",
    "split_data = \"\".join(split_data)\n",
    "\n",
    "print(\"the final conclusion of the query is :\" , str(split_data))"
   ]
  },
  {
   "cell_type": "code",
   "execution_count": null,
   "id": "4855e6cf",
   "metadata": {
    "id": "4855e6cf",
    "outputId": "e810e3e3-c405-4dde-a316-d4302f9b8365"
   },
   "outputs": [],
   "source": [
    "# split()\n",
    "\n",
    "test_string = \"this_text_is_the_snake_Case_format\"\n",
    "\n",
    "print(\"this is the actual string : \",  test_string)\n",
    "split = test_string.split(\"_\")\n",
    "\n",
    "print(\"splitted string : \",split)\n",
    "\n",
    "capitalize = [word.title() for word in split]\n",
    "\n",
    "print(\"after capitalization of sentenecen:\", capitalize)\n",
    "\n",
    "result = ''.join(capitalize)\n",
    "print(\"the final output of is : \" + str(result))"
   ]
  },
  {
   "cell_type": "markdown",
   "id": "2566d832",
   "metadata": {
    "id": "2566d832"
   },
   "source": [
    "### Find length of a string in python (6 ways)\n"
   ]
  },
  {
   "cell_type": "code",
   "execution_count": null,
   "id": "6390169d",
   "metadata": {
    "id": "6390169d",
    "outputId": "d2c8be18-86b9-40e3-94be-e76e999aebb7"
   },
   "outputs": [],
   "source": [
    "test_string = \" lets check the length of this string \"\n",
    "\n",
    "length = len(str(test_string))\n",
    "print(length)"
   ]
  },
  {
   "cell_type": "code",
   "execution_count": null,
   "id": "d608cf26",
   "metadata": {
    "id": "d608cf26",
    "outputId": "ced3b6ab-4aa5-40d4-fdf0-a154a6d9f429"
   },
   "outputs": [],
   "source": [
    "test_string = \" lets check the length of this string \"\n",
    "length = 0\n",
    "\n",
    "for i,a in enumerate(test_string):\n",
    "    length += 1\n",
    "print(length)\n"
   ]
  },
  {
   "cell_type": "markdown",
   "id": "98df89d5",
   "metadata": {
    "id": "98df89d5"
   },
   "source": [
    "### Python program to print even length words in a string"
   ]
  },
  {
   "cell_type": "code",
   "execution_count": null,
   "id": "f727f9d1",
   "metadata": {
    "id": "f727f9d1",
    "outputId": "1c06457d-96b5-45f9-873e-e9d4b23f740f"
   },
   "outputs": [],
   "source": [
    "test_string = \"lets check with this string \"\n",
    "result = []\n",
    "spliteed = test_string.split()\n",
    "\n",
    "print(spliteed)\n",
    "\n",
    "for i in spliteed:\n",
    "    if len(i)%2 == 0:\n",
    "        result.append(i)\n",
    "\n",
    "print(\"these are the even length words in an string :\", result)\n",
    "\n"
   ]
  },
  {
   "cell_type": "code",
   "execution_count": null,
   "id": "12cdadef",
   "metadata": {
    "id": "12cdadef",
    "outputId": "ed905cc4-f52b-45a9-b13d-8e3e7cc6775f"
   },
   "outputs": [],
   "source": [
    "\n",
    "def evenlengthwords(string):\n",
    "    splitted = string.split()\n",
    "    for i in splitted:\n",
    "        if len(i)%2 == 0:\n",
    "            data.append(i)\n",
    "\n",
    "data = []\n",
    "test_string = \"let's check with this string \"\n",
    "print(evenlengthwords(test_string))\n",
    "data"
   ]
  },
  {
   "cell_type": "code",
   "execution_count": null,
   "id": "caf80967",
   "metadata": {
    "id": "caf80967",
    "outputId": "7e88e760-129c-4e1e-e466-361dc30777ab"
   },
   "outputs": [],
   "source": [
    "#  Using list comprehension\n",
    "\n",
    "test_string = \"let's check with this string \"\n",
    "splitted = test_string.split()\n",
    "\n",
    "print([x for x in splitted if len(x)%2 == 0 ])"
   ]
  },
  {
   "cell_type": "markdown",
   "id": "911a0235",
   "metadata": {
    "id": "911a0235"
   },
   "source": [
    "### Python Program to Accept the Strings Which Contains all Vowels"
   ]
  },
  {
   "cell_type": "code",
   "execution_count": null,
   "id": "7086a202",
   "metadata": {
    "id": "7086a202",
    "outputId": "507753c9-885b-41c0-8951-eec70ad9b924"
   },
   "outputs": [],
   "source": [
    "def check(string):\n",
    "    string = string.replace(' ', '')\n",
    "    string = string.lower()\n",
    "    vowel = [string.count('a'), string.count('e'), string.count('i'), string.count('o'), string.count('u')]\n",
    "\n",
    "    if vowel.count(0)> 0:\n",
    "        return ('not accepted')\n",
    "    else:\n",
    "        return ('accepted')\n",
    "\n",
    "\n",
    "if __name__ == \"__main__\":\n",
    "\n",
    "    string = \"Sequentioal\"\n",
    "    print(check(string))\n"
   ]
  },
  {
   "cell_type": "markdown",
   "id": "7b0d2a32",
   "metadata": {
    "id": "7b0d2a32"
   },
   "source": [
    "### Python | Count the Number of matching characters in a pair of string\n"
   ]
  },
  {
   "cell_type": "markdown",
   "id": "ae10d576",
   "metadata": {
    "id": "ae10d576"
   },
   "source": [
    "Input : str1 = 'abcdef'\n",
    "        str2 = 'defghia'\n",
    "Output : 4\n",
    "(i.e. matching characters :- a, d, e, f)\n",
    "\n",
    "Input : str1 = 'aabcddekll12@'\n",
    "        str2 = 'bb22ll@55k'\n",
    "Output : 5\n",
    "(i.e. matching characters :- b, 1, 2, @, k)"
   ]
  },
  {
   "cell_type": "code",
   "execution_count": null,
   "id": "fa180790",
   "metadata": {
    "id": "fa180790",
    "outputId": "e0430b7d-4459-4c64-d2b0-938600cddf90"
   },
   "outputs": [],
   "source": [
    "def commonchar(str1, str2 ):\n",
    "    return (len((set(str1)).intersection(set(str2))))\n",
    "\n",
    "str1 = 'rohit'\n",
    "str2 = 'rohini'\n",
    "\n",
    "common_char= commonchar(str1.lower(), str2.lower())\n",
    "\n",
    "print(\" no of common charecters are :\", common_char)"
   ]
  },
  {
   "cell_type": "markdown",
   "id": "b72d4f0c",
   "metadata": {
    "id": "b72d4f0c"
   },
   "source": [
    "### Remove all duplicates from a given string in Python"
   ]
  },
  {
   "cell_type": "code",
   "execution_count": null,
   "id": "045674be",
   "metadata": {
    "id": "045674be",
    "outputId": "7826bb02-a771-49aa-8d6d-d5625ff0c8b9"
   },
   "outputs": [],
   "source": [
    "def duplicate(string):\n",
    "    s = set(string)\n",
    "    s = \"\".join(s)\n",
    "    print(s)\n",
    "    t = ''\n",
    "    for i in string:\n",
    "        if i in t:\n",
    "            pass\n",
    "        else:\n",
    "            t = t+ i\n",
    "        print(\"with order : \", t)\n",
    "\n",
    "string = \" jara hole hole chalo mere sajana hum bhi peeche hai tumhare \"\n",
    "\n",
    "print(duplicate(string))\n"
   ]
  },
  {
   "cell_type": "markdown",
   "id": "bbdea874",
   "metadata": {
    "id": "bbdea874"
   },
   "source": [
    "### Python – Least Frequent Character in String\n"
   ]
  },
  {
   "cell_type": "code",
   "execution_count": null,
   "id": "9d2588dd",
   "metadata": {
    "id": "9d2588dd",
    "outputId": "083a9864-8562-49f4-bb13-21c0c3e563bd"
   },
   "outputs": [],
   "source": [
    "test_string = input(str(\"enter the input string : \"))\n",
    "\n",
    "print(\"original string is :\"+ test_string)\n",
    "\n",
    "freq = {}\n",
    "for i in test_string:\n",
    "\n",
    "    if i in freq:\n",
    "        freq[i] += 1\n",
    "    else:\n",
    "        freq[i] = 1\n",
    "\n",
    "result = min (freq , key = freq.get)\n",
    "\n",
    "print(str(result))"
   ]
  },
  {
   "cell_type": "code",
   "execution_count": null,
   "id": "2b0de25d",
   "metadata": {
    "id": "2b0de25d",
    "outputId": "4986346e-9523-4c1d-839c-055793ce6be3"
   },
   "outputs": [],
   "source": [
    "test_string = 'Do one thing every day that scares you.'\n",
    "\n",
    "print(\" the original sentence is : \", str(test_string))\n",
    "\n",
    "freq = {}\n",
    "\n",
    "for i in test_string:\n",
    "    if i in freq:\n",
    "        freq[i]+= 1\n",
    "    else:\n",
    "        freq[i]= 1\n",
    "\n",
    "result = max(freq, key = freq.get)\n",
    "\n",
    "print(str(result))"
   ]
  },
  {
   "cell_type": "markdown",
   "id": "bb22205a",
   "metadata": {
    "id": "bb22205a"
   },
   "source": [
    "### Program to check if a string contains any special character"
   ]
  },
  {
   "cell_type": "code",
   "execution_count": null,
   "id": "74f7b5e8",
   "metadata": {
    "id": "74f7b5e8",
    "outputId": "7bab5d5a-489e-4153-e712-1295525b18da"
   },
   "outputs": [],
   "source": [
    "import string\n",
    "\n",
    "def check_string(string_):\n",
    "    for char in string_:\n",
    "        if char in string.punctuation:\n",
    "            return \"string is not accepted\"\n",
    "\n",
    "            return\n",
    "        print(\"string accepted \")\n",
    "\n",
    "\n",
    "string_to_check = \"Be yourself; everyone else is already taken. -Oscar Wilde\"\n",
    "\n",
    "print(check_string(string_to_check))"
   ]
  },
  {
   "cell_type": "markdown",
   "id": "0aac1adc",
   "metadata": {
    "id": "de4ecb8a"
   },
   "source": [
    "### Find words which are greater than given length k"
   ]
  },
  {
   "cell_type": "code",
   "execution_count": null,
   "id": "3ec3203a",
   "metadata": {
    "id": "3ec3203a"
   },
   "outputs": [],
   "source": [
    "def greater_(words , k):\n",
    "    data = []\n",
    "    \n",
    "    text = words.split(\" \")\n",
    "    \n",
    "    for word in text:\n",
    "        if len(word) > k:\n",
    "            data.append(word)\n",
    "    return data\n",
    "\n",
    "\n",
    "words = \"We continue to shape our personality all our life\"\n",
    "k = 4\n",
    "print(greater_(words,k ))\n",
    "\n",
    "print(data)"
   ]
  },
  {
   "cell_type": "code",
   "execution_count": null,
   "id": "0d7aab67",
   "metadata": {
    "id": "0d7aab67"
   },
   "outputs": [],
   "source": [
    "# using list comprehansion \n",
    "\n",
    "words = \"We continue to shape our personality all our life\"\n",
    "k = 4\n",
    "\n",
    "print([word for word in words.split() if len(word)> k])"
   ]
  },
  {
   "cell_type": "code",
   "execution_count": null,
   "id": "2facb09c",
   "metadata": {
    "id": "2facb09c"
   },
   "outputs": [],
   "source": [
    "# using lambda function \n",
    "\n",
    "words = \"We continue to shape our personality all our life\"\n",
    "k = 4\n",
    "words = words.split(\" \")\n",
    "\n",
    "result = list(filter(lambda word : (len(word)> k),words))\n",
    "\n",
    "print(result)"
   ]
  },
  {
   "cell_type": "markdown",
   "id": "255568b3",
   "metadata": {
    "id": "17efbf13"
   },
   "source": [
    "### Python program for removing i-th character from a string"
   ]
  },
  {
   "cell_type": "code",
   "execution_count": null,
   "id": "adeb8781",
   "metadata": {
    "id": "adeb8781"
   },
   "outputs": [],
   "source": [
    "def remove_char(sentence, i):\n",
    "    for j in range(len(sentence)):\n",
    "        if j == i:\n",
    "            sentence = sentence.replace(sentence[i], \"\", 1) # new_string = original_string.replace(old_substring, new_substring, count)\n",
    "\n",
    "    return sentence \n",
    "\n",
    "words = \"We continue to shape our personality all our life\"\n",
    "print(\" the original sentence is :\", words)\n",
    "\n",
    "k = 4  #it will remove sentence[4] th character from the sentence \n",
    "\n",
    "\n",
    "result = remove_char(words, k)\n",
    "print(\"the sentence after removing {}th character is: {}\".format(k, result))\n"
   ]
  },
  {
   "cell_type": "code",
   "execution_count": null,
   "id": "cafdc55e",
   "metadata": {
    "id": "cafdc55e"
   },
   "outputs": [],
   "source": [
    "def remove_ch(sentence, position):\n",
    "    for i in range(len(sentence)):\n",
    "        if i == position:\n",
    "            sentence = sentence.replace(sentence[i-1], \"\", 1)\n",
    "            \n",
    "    return sentence\n",
    "\n",
    "\n",
    "words = \"We continue to shape our personality all our life\"\n",
    "position = int(input(\"please specify the position :\"))\n",
    "\n",
    "\n",
    "print(\"the original sentence is :\", words)\n",
    "\n",
    "result = remove_ch(words, position)\n",
    "\n",
    "print(\"sentence after removing the {} th position character is: {}\".format(position, result))\n"
   ]
  },
  {
   "cell_type": "markdown",
   "id": "88dbc6a3",
   "metadata": {
    "id": "83a538da"
   },
   "source": [
    "### Python program to split and join a string\n"
   ]
  },
  {
   "cell_type": "code",
   "execution_count": null,
   "id": "77d5c701",
   "metadata": {},
   "outputs": [],
   "source": [
    "def splitted(sentence):\n",
    "    sentence1 = sentence.split(\" \")\n",
    "    \n",
    "    return sentence1 \n",
    "\n",
    "\n",
    "def joined(sentence):\n",
    "    sentence = \"_\".join(sentence)\n",
    "    \n",
    "    return sentence\n",
    "\n",
    "\n",
    "if __name__ == '__main__':\n",
    "    sentence = \"let go with this \"\n",
    "    \n",
    "    sentence1 = splitted(sentence)\n",
    "    print(sentence1)\n",
    "    \n",
    "    joined_result = joined(sentence1)\n",
    "    print(joined_result)\n",
    "    \n",
    "    "
   ]
  },
  {
   "cell_type": "code",
   "execution_count": null,
   "id": "559d6999",
   "metadata": {},
   "outputs": [],
   "source": [
    "sentence = \"let go with this \"\n",
    "\n",
    "\n",
    "\n",
    "print(sentence.split(\" \"))\n",
    "\n",
    "\n",
    "print(\"_\".join(sentence))\n"
   ]
  },
  {
   "cell_type": "markdown",
   "id": "1b365a71",
   "metadata": {},
   "source": [
    "### Python | Check if a given string is binary string or not"
   ]
  },
  {
   "cell_type": "markdown",
   "id": "11f61498",
   "metadata": {},
   "source": [
    "Input: str = \"01010101010\"\n",
    "\n",
    "Output: Yes\n",
    "\n",
    "\n",
    "\n",
    "Input: str = \"geeks101\"\n",
    "\n",
    "Output: No"
   ]
  },
  {
   "cell_type": "code",
   "execution_count": null,
   "id": "0c52a952",
   "metadata": {},
   "outputs": [],
   "source": [
    "def check(sentence):\n",
    "    \n",
    "    \n",
    "    sentence1 = set(sentence) # converting string into  set of cherecters\n",
    "    \n",
    "    s = {'0','1'}\n",
    "    \n",
    "    if sentence1 == s or sentence1 =={'0'} or sentence1 == {'1'}:\n",
    "        print(\"yes given string is binary sring\")\n",
    "    else:\n",
    "        print(\"string is not binary \")\n",
    "        \n",
    "        \n",
    "\n",
    "sentence =\"010101011\" \n",
    "\n",
    "print(check(sentence))"
   ]
  },
  {
   "cell_type": "code",
   "execution_count": null,
   "id": "658f05cb",
   "metadata": {},
   "outputs": [],
   "source": [
    "sentence = input(\"enter string \")\n",
    "\n",
    "if (sentence.count('0') + sentence.count('1') == len(sentence)):\n",
    "    print(\"given string is binary string \")\n",
    "else:\n",
    "    print('given string is not binary string ')"
   ]
  },
  {
   "cell_type": "markdown",
   "id": "0ea8f921",
   "metadata": {},
   "source": [
    "### Python program to find uncommon words from two Strings"
   ]
  },
  {
   "cell_type": "markdown",
   "id": "23b1251f",
   "metadata": {},
   "source": [
    "Input : A = “Geeks for Geeks”,  B = “Learning from Geeks for Geeks”\n",
    "Output : [‘Learning’, ‘from’]"
   ]
  },
  {
   "cell_type": "markdown",
   "id": "23380e60",
   "metadata": {},
   "source": [
    "string1 = \"lets go and play cricket\"\n",
    "\n",
    "string2 = \"i will play cricket\"\n",
    "\n",
    "\n",
    "words1 = string1.split(\" \")\n",
    "words2 = string2.split(' ')\n",
    "\n",
    "result = []\n",
    "for i in words1:\n",
    "    if i not in words2:\n",
    "        result.append(i)\n",
    "        \n",
    "for i in words2:\n",
    "    if i not in words1:\n",
    "        result.append(i)\n",
    "        \n",
    "print(result)\n",
    "        "
   ]
  },
  {
   "cell_type": "code",
   "execution_count": null,
   "id": "30b9b69d",
   "metadata": {},
   "outputs": [],
   "source": [
    "def uncommon_words(string1, string2):\n",
    "    \n",
    "    words1 = set(string1.split(\" \"))\n",
    "    words2 = set(string2.split(\" \"))\n",
    "    \n",
    "     \n",
    "    \n",
    "    result = []\n",
    "    \n",
    "    print(words1)\n",
    "    \n",
    "    print(words2)\n",
    "\n",
    "    \n",
    "    \n",
    "    for i in words1:\n",
    "        if i not in words2:\n",
    "            result.append(i)\n",
    "            \n",
    "    for j in words2:\n",
    "        if j not in words1:\n",
    "            result.append(j)\n",
    "    \n",
    "    result = list(set(result))\n",
    "            \n",
    "    return result\n",
    "      \n",
    "sentence1 = \"i am good in data science\"\n",
    "sentence2 = \"i am better in data analytics\"\n",
    "        \n",
    "    \n",
    "print(uncommon_words(sentence1, sentence2))\n",
    "\n"
   ]
  },
  {
   "cell_type": "code",
   "execution_count": null,
   "id": "14e43a7c",
   "metadata": {},
   "outputs": [],
   "source": [
    "# using counter \n",
    "\n",
    "\n",
    "from collections import Counter \n",
    "\n",
    "def uncommonwords(string1, string2):\n",
    "    \n",
    "    result = []\n",
    "    string1 = string1.split(\" \")\n",
    "    string2 = string2.split(\" \")\n",
    "    \n",
    "    friq1 = Counter(string1)\n",
    "    friq2 = Counter(string2)\n",
    "    \n",
    "    print(friq1)\n",
    "    print(friq2)\n",
    "    \n",
    "    \n",
    "    for i in friq1:\n",
    "        if i not in friq2:\n",
    "            result.append(i)\n",
    "    \n",
    "    for i in friq2:\n",
    "        if i not in friq1:\n",
    "            result.append(i)\n",
    "    return result\n",
    "            \n",
    "\n",
    "\n",
    "\n",
    "sentence1 = \"i am good in data science\"\n",
    "sentence2 = \"i am better in data analytics\"\n",
    "\n",
    "\n",
    "final= uncommonwords(sentence1, sentence2)\n",
    "\n",
    "print(final)\n"
   ]
  },
  {
   "cell_type": "markdown",
   "id": "0b0ca010",
   "metadata": {},
   "source": [
    "### Python – Replace duplicate Occurrence in String\n"
   ]
  },
  {
   "cell_type": "code",
   "execution_count": null,
   "id": "5f59ba93",
   "metadata": {},
   "outputs": [],
   "source": [
    "def replace_duplicate(sentence):\n",
    "    \n",
    "    \n",
    "    splitted = sentence.split(\" \")\n",
    "    \n",
    "    print(splitted)\n",
    "    \n",
    "    \n",
    "    unique_words = []\n",
    "    \n",
    "    \n",
    "    for i in splitted:\n",
    "        if i not in unique_words:\n",
    "            \n",
    "            unique_words.append(i)\n",
    "            \n",
    "            \n",
    "    unique_sentence = \" \".join(unique_words)\n",
    "    \n",
    "    \n",
    "    return unique_sentence\n",
    "\n",
    "\n",
    "sentence = \"i am a good listener and i am a good writer as well \"\n",
    "\n",
    "answer = replace_duplicate(sentence)\n",
    "\n",
    "print(answer)"
   ]
  },
  {
   "cell_type": "code",
   "execution_count": null,
   "id": "facd1b9e",
   "metadata": {},
   "outputs": [],
   "source": [
    "# using count \n",
    "\n",
    "def replace_using_count(sentence):\n",
    "    \n",
    "    unique_words =[]\n",
    "    \n",
    "    splitted = sentence.split(\" \")\n",
    "    \n",
    "    print(splitted)\n",
    "        \n",
    "    for i in splitted:\n",
    "        \n",
    "        if splitted.count(i)<= 1:\n",
    "            \n",
    "            unique_words.append(i)\n",
    "            \n",
    "    unique_sentence = ' '.join(unique_words)\n",
    "\n",
    "    \n",
    "    return unique_sentence\n",
    "\n",
    "\n",
    "\n",
    "sentence = \"i am a good listener and i am a good writer as well \"\n",
    "\n",
    "\n",
    "answer = replace_using_count(sentence)\n",
    "\n",
    "\n",
    "print(answer)"
   ]
  },
  {
   "cell_type": "markdown",
   "id": "3e1c241e",
   "metadata": {},
   "source": [
    "### Python – Replace multiple words with K\n"
   ]
  },
  {
   "cell_type": "code",
   "execution_count": null,
   "id": "2153fd1e",
   "metadata": {},
   "outputs": [],
   "source": [
    "def replace_words(sentence, words, replacement):\n",
    "    \n",
    "    \n",
    "    result = []\n",
    "    sentence = sentence.split(\" \")\n",
    "    \n",
    "    print(sentence)\n",
    "    \n",
    "\n",
    "    for i in sentence:\n",
    "        \n",
    "        if i == words:\n",
    "            result.append(replacement)\n",
    "            \n",
    "            \n",
    "        else:\n",
    "            result.append(i)\n",
    "            \n",
    "            \n",
    "    sentence = \" \".join(result)\n",
    "            \n",
    "    return sentence\n",
    "\n",
    "\n",
    "sentence = \"i am a good listener and i am a good writer as well \"\n",
    "words = 'am'\n",
    "replacement ='am_not'\n",
    "\n",
    "\n",
    "answer = replace_words(sentence, words, replacement)\n",
    "\n",
    "\n",
    "print(answer)"
   ]
  },
  {
   "cell_type": "code",
   "execution_count": null,
   "id": "8af696a6",
   "metadata": {},
   "outputs": [],
   "source": [
    "sentence = \"i am a good listener and i am a good writer as well \"\n",
    "\n",
    "print(\"original sentence is :\", str(sentence))\n",
    "\n",
    "words =  ['listener', \"writer\"]\n",
    "\n",
    "\n",
    "replacement = 'professional'\n",
    "\n",
    "\n",
    "\n",
    "result = \" \".join([replacement if i in words else i for i in sentence.split()])\n",
    "\n",
    "print(result)"
   ]
  },
  {
   "cell_type": "markdown",
   "id": "f586b8e8",
   "metadata": {},
   "source": [
    "### Python | Permutation of a given string using inbuilt function"
   ]
  },
  {
   "cell_type": "markdown",
   "id": "9faf4e6b",
   "metadata": {},
   "source": [
    "A permutation, also called an “arrangement number” or “order”, is a rearrangement of the elements of an ordered list S into a one-to-one correspondence with S itself. A string of length n has n! permutation"
   ]
  },
  {
   "cell_type": "markdown",
   "id": "d329abab",
   "metadata": {},
   "source": [
    "Input :  str = 'ABC'\n",
    "Output : ABC\n",
    "\n",
    "         ACB \n",
    "         \n",
    "         BAC \n",
    "         \n",
    "         BCA \n",
    "         \n",
    "         CAB \n",
    "         \n",
    "         CBA"
   ]
  },
  {
   "cell_type": "code",
   "execution_count": null,
   "id": "8dec288a",
   "metadata": {},
   "outputs": [],
   "source": [
    "from itertools import permutations \n",
    "\n",
    "\n",
    "def permutation_lis(word):\n",
    "    \n",
    "    \n",
    "    permutation_list = permutations(word)\n",
    "    \n",
    "    print(permutation_list)\n",
    "    \n",
    "    for i in list(permutation_list):\n",
    "        print(\"\".join(i))\n",
    "        \n",
    "    \n",
    "if __name__ == \"__main__\":\n",
    "    word = \"shit\"\n",
    "    permutation_lis(word)"
   ]
  },
  {
   "cell_type": "markdown",
   "id": "7a052c78",
   "metadata": {},
   "source": [
    "### Python | Check for URL in a String\n"
   ]
  },
  {
   "cell_type": "code",
   "execution_count": null,
   "id": "afd08be8",
   "metadata": {},
   "outputs": [],
   "source": [
    "def find_url(string):\n",
    "    \n",
    "    string = string.split()\n",
    "    result = []\n",
    "    for i in string:\n",
    "        if i.startswith(\"http:\") or i.startswith(\"https:\"):\n",
    "            result.append(i)\n",
    "            \n",
    "    return result\n",
    "\n",
    "string = 'https://www.geeksforgeeks.org/python-check-url-string/ https://kidadl.com/quotes/top-personality-quotes-to-unleash-your-true-self'\n",
    "\n",
    "\n",
    "print(find_url(string))"
   ]
  },
  {
   "cell_type": "code",
   "execution_count": null,
   "id": "c39973f3",
   "metadata": {},
   "outputs": [],
   "source": [
    "def find(string):\n",
    "    \n",
    "    string= string.split()\n",
    "    result = []\n",
    "    \n",
    "    for i in string:\n",
    "        if i.find('https:')==0 or i.find('http:')==0:\n",
    "            result.append(i)\n",
    "            \n",
    "    return result\n",
    "\n",
    "\n",
    "\n",
    "string = 'https://www.geeksforgeeks.org/python-check-url-string/ https://kidadl.com/quotes/top-personality-quotes-to-unleash-your-true-self'\n",
    "\n",
    "\n",
    "print(find(string))\n",
    "\n",
    "\n"
   ]
  },
  {
   "cell_type": "markdown",
   "id": "4eed90a1",
   "metadata": {},
   "source": [
    "### Execute a String of Code in Python\n"
   ]
  },
  {
   "cell_type": "code",
   "execution_count": null,
   "id": "24bddf69",
   "metadata": {},
   "outputs": [],
   "source": [
    "# using exec() \n",
    "#Here we use the exec() function to solve the code contained inside a variable.\n",
    "\n",
    "\n",
    "def code():\n",
    "    loc = \"\"\"\n",
    "    \n",
    "def factorial(num):\n",
    "        fact = 1\n",
    "        for i in range(1, num+1):\n",
    "            fact = fact*i\n",
    "        return fact\n",
    "print(factorial(5))\n",
    "        \n",
    "    \"\"\"\n",
    "    exec(loc)\n",
    "        \n",
    "code()"
   ]
  },
  {
   "cell_type": "code",
   "execution_count": null,
   "id": "344318dc",
   "metadata": {},
   "outputs": [],
   "source": [
    "# using eval()\n",
    "\n",
    "#This function is similar to exec(), but it evaluates a string of code and returns the result.\n",
    "\n",
    "code = '6+4'\n",
    "\n",
    "result = eval(code)\n",
    "\n",
    "print(result)"
   ]
  },
  {
   "cell_type": "markdown",
   "id": "6d050159",
   "metadata": {},
   "source": [
    "### String slicing in Python to Rotate a String\n"
   ]
  },
  {
   "cell_type": "markdown",
   "id": "3d4b912a",
   "metadata": {},
   "source": [
    "Input : s = \"GeeksforGeeks\"\n",
    "\n",
    "        d = 2\n",
    "        \n",
    "        \n",
    "Output : Left Rotation  : \"eksforGeeksGe\" \n",
    "\n",
    "         Right Rotation : \"ksGeeksforGee\"  \n",
    "         \n"
   ]
  },
  {
   "cell_type": "code",
   "execution_count": null,
   "id": "aebdd79e",
   "metadata": {},
   "outputs": [],
   "source": [
    "def rotate(string, d):\n",
    "    \n",
    "    left_first = string[0:d]\n",
    "    left_second = string[d: len(string)]\n",
    "    \n",
    "    right_first = string[len(string)-d : len(string)]\n",
    "    right_second = string[0:len(string)-d]\n",
    "    \n",
    "    \n",
    "    print((left_second + left_first))\n",
    "    print((right_first + right_second))\n",
    "    \n",
    "if __name__ == \"__main__\":\n",
    "    input = 'Machine_learning'\n",
    "    d=2\n",
    "    rotate(input,d)"
   ]
  },
  {
   "cell_type": "markdown",
   "id": "50bc23a3",
   "metadata": {},
   "source": [
    "### Check if a string can become empty by recursively deleting a given sub-string"
   ]
  },
  {
   "cell_type": "markdown",
   "id": "f6ce6b22",
   "metadata": {},
   "source": [
    "def empty_string(string, sub_str):\n",
    "    \n",
    "    while len(string) > 0:\n",
    "        \n",
    "        idx = string.find(sub_str)\n",
    "        \n",
    "        if idx == -1:\n",
    "            break\n",
    "            \n",
    "            \n",
    "            \n",
    "            string = string.replace(sub_str, \"\")\n",
    "            \n",
    "            \n",
    "    return len(string == 0)\n",
    "\n",
    "\n",
    "if __name__ == \"__main__\":\n",
    "    string = \"GEEGEEKSKS\"\n",
    "    sub_str = \"GEEKS\"\n",
    "    if empty_string(string, sub_str):\n",
    "        print(\"Yes\")\n",
    "    else:\n",
    "        print(\"No\")\n",
    " "
   ]
  },
  {
   "cell_type": "code",
   "execution_count": 1,
   "id": "2d460493",
   "metadata": {},
   "outputs": [
    {
     "name": "stdout",
     "output_type": "stream",
     "text": [
      "true\n"
     ]
    }
   ],
   "source": [
    "def checkEmpty(input, pattern):\n",
    "\t\n",
    "\t# If both are empty\n",
    "\tif len(input)== 0 and len(pattern)== 0:\n",
    "\t\treturn 'true'\n",
    "\n",
    "\t# If only pattern is empty\n",
    "\tif len(pattern)== 0:\n",
    "\t\treturn 'false'\n",
    "\n",
    "\twhile (len(input) != 0):\n",
    "\n",
    "\t\t# find sub-string in main string\n",
    "\t\tindex = input.find(pattern)\n",
    "\n",
    "\t\t# check if sub-string founded or not\n",
    "\t\tif (index ==(-1)):\n",
    "\t\t\treturn 'false'\n",
    "\n",
    "\t\t# slice input string in two parts and concatenate\n",
    "\t\tinput = input[0:index] + input[index + len(pattern):]\t\t\n",
    "\treturn 'true'\n",
    "\n",
    "# Driver program\n",
    "if __name__ == \"__main__\":\n",
    "\tinput ='GEEGEEKSKS'\n",
    "\tpattern ='GEEKS'\n",
    "\tprint (checkEmpty(input, pattern))\n"
   ]
  },
  {
   "cell_type": "code",
   "execution_count": 5,
   "id": "cd8e565c",
   "metadata": {},
   "outputs": [
    {
     "name": "stdout",
     "output_type": "stream",
     "text": [
      "True\n"
     ]
    }
   ],
   "source": [
    "def check(string, sub_string):\n",
    "    \n",
    "    \n",
    "    if len(string)==0  and len(sub_string)== 0:\n",
    "        return True\n",
    "    \n",
    "    if len(sub_string)==0:\n",
    "        return False\n",
    "    \n",
    "    while len(string)!=0:\n",
    "        \n",
    "        index_pos = string.find(sub_string)\n",
    "        \n",
    "        if index_pos == -1:\n",
    "            return False\n",
    "        \n",
    "        string = string[0:index_pos] + string[index_pos + len(sub_string):]\n",
    "        \n",
    "    return True\n",
    "if __name__ == \"__main__\":\n",
    "    input ='rohrohitit'\n",
    "    pattern ='rohit'\n",
    "    print(check(input, pattern))        "
   ]
  },
  {
   "cell_type": "markdown",
   "id": "335e34f0",
   "metadata": {},
   "source": [
    "### Python – Find all duplicate characters in string\n"
   ]
  },
  {
   "cell_type": "markdown",
   "id": "f7df08c1",
   "metadata": {},
   "source": [
    "Input : hello\n",
    "Output : l\n",
    "\n",
    "Input : geeksforgeeeks\n",
    "Output : e g k s"
   ]
  },
  {
   "cell_type": "code",
   "execution_count": 29,
   "id": "81d8e404",
   "metadata": {},
   "outputs": [
    {
     "name": "stdout",
     "output_type": "stream",
     "text": [
      "these letters are duplicated: [' ', 'c', 'h', 'a', 'n', 'e', 'd', 'k', 'u', 't', 'y']\n",
      "these are unique letters : ['c', 'h', 'a', 'n', 'd', 'u', ' ', 'k', 'e', 'm', 's', 't', 'y', 'i']\n"
     ]
    },
    {
     "data": {
      "text/plain": [
       "(None, None)"
      ]
     },
     "execution_count": 29,
     "metadata": {},
     "output_type": "execute_result"
    }
   ],
   "source": [
    "def duplicate(string):\n",
    "    unique_string = []\n",
    "    duplicate = []\n",
    "    \n",
    "    for i in sentence:\n",
    "        if i not in unique_string:\n",
    "            unique_string.append(i)\n",
    "        \n",
    "        elif i not in duplicate:\n",
    "            duplicate.append(i)\n",
    "            \n",
    "            \n",
    "            \n",
    "            \n",
    "            \n",
    "    \n",
    "    return print(\"these letters are duplicated:\", duplicate), print(\"these are unique letters :\",unique_string )\n",
    "\n",
    "if __name__ == \"__main__\":\n",
    "    sentence = \"chandu ke chacha ne chand ke chamche se chutney chatayti\"\n",
    "duplicate(sentence)\n",
    "\n",
    "\n",
    "    \n"
   ]
  },
  {
   "cell_type": "code",
   "execution_count": 36,
   "id": "1905f25b",
   "metadata": {},
   "outputs": [
    {
     "name": "stdout",
     "output_type": "stream",
     "text": [
      "['c', 'h', 'a', 'n', 'd', 'u', ' ', 'k', 'e', 't', 'y']\n"
     ]
    }
   ],
   "source": [
    "def duplicate(sentence):\n",
    "    \n",
    "    data = {}\n",
    "    \n",
    "    \n",
    "    for i in sentence:\n",
    "        if i not in data:\n",
    "            data[i] = 1\n",
    "            \n",
    "        else:\n",
    "            data[i]+= 1\n",
    "            \n",
    "    duplicates = []\n",
    "    \n",
    "    \n",
    "    for i, count in data.items():\n",
    "        if count > 1:\n",
    "            duplicates.append(i)\n",
    "            \n",
    "    return duplicates\n",
    "sentence = \"chandu ke chacha ne chand ke chamche se chutney chatayti\"\n",
    "print(duplicate(sentence))"
   ]
  },
  {
   "cell_type": "markdown",
   "id": "10a7bd75",
   "metadata": {},
   "source": [
    "### Python – Replace all occurrences of a substring in a string"
   ]
  },
  {
   "cell_type": "markdown",
   "id": "a8196285",
   "metadata": {},
   "source": [
    "Input : test_str = “geeksforgeeks” s1 = “geeks” s2 = “abcd” \n",
    "Output : test_str = “abcdforabcd” Explanation : We replace all occurrences of s1 with s2 in test_str. "
   ]
  },
  {
   "cell_type": "code",
   "execution_count": 37,
   "id": "7d2f29bb",
   "metadata": {},
   "outputs": [
    {
     "name": "stdout",
     "output_type": "stream",
     "text": [
      "he is a good listner and he is a good writer\n"
     ]
    }
   ],
   "source": [
    "sentence = 'i am a good listner and i am a good writer'\n",
    "substr = 'i am'\n",
    "new_str= 'he is'\n",
    "\n",
    "sentence = sentence.replace('i am','he is')\n",
    "\n",
    "print(sentence)"
   ]
  },
  {
   "cell_type": "code",
   "execution_count": null,
   "id": "07b55c7a",
   "metadata": {},
   "outputs": [],
   "source": []
  }
 ],
 "metadata": {
  "colab": {
   "provenance": []
  },
  "kernelspec": {
   "display_name": "Python 3 (ipykernel)",
   "language": "python",
   "name": "python3"
  },
  "language_info": {
   "codemirror_mode": {
    "name": "ipython",
    "version": 3
   },
   "file_extension": ".py",
   "mimetype": "text/x-python",
   "name": "python",
   "nbconvert_exporter": "python",
   "pygments_lexer": "ipython3",
   "version": "3.10.9"
  }
 },
 "nbformat": 4,
 "nbformat_minor": 5
}
